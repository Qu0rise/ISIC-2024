{
 "cells": [
  {
   "cell_type": "markdown",
   "id": "bf9dede1",
   "metadata": {
    "papermill": {
     "duration": 0.007862,
     "end_time": "2024-08-10T00:49:52.520730",
     "exception": false,
     "start_time": "2024-08-10T00:49:52.512868",
     "status": "completed"
    },
    "tags": []
   },
   "source": [
    "I used Tabnet instead of LGBM/Catboost based on this [notebook](https://www.kaggle.com/code/snnclsr/tabular-ensemble-lgbm-catboost).\n",
    "\n",
    "(The parameters have not been optimized.)"
   ]
  },
  {
   "cell_type": "markdown",
   "id": "5ab96896",
   "metadata": {
    "papermill": {
     "duration": 0.007065,
     "end_time": "2024-08-10T00:49:52.535195",
     "exception": false,
     "start_time": "2024-08-10T00:49:52.528130",
     "status": "completed"
    },
    "tags": []
   },
   "source": [
    "Original comment:\n",
    "\n",
    "In my previous work [here](https://www.kaggle.com/code/snnclsr/lgbm-baseline-with-new-features), I showed the effectiveness of additional tabular features. Since there are not enough positive samples, every bit of contribution will be important in the final stage.\n",
    "\n",
    "With that motivation, I want to show how ensembles are useful in predictions.\n",
    "\n",
    "**Edit:** New version adds two image model predictions from here: https://www.kaggle.com/code/motono0223/isic-tabular-model-image-model-features and one from my own model (augmentations used [here](https://www.kaggle.com/code/snnclsr/image-augmentations-from-winning-solutions))."
   ]
  },
  {
   "cell_type": "code",
   "execution_count": 1,
   "id": "d4eb3b6a",
   "metadata": {
    "execution": {
     "iopub.execute_input": "2024-08-10T00:49:52.551064Z",
     "iopub.status.busy": "2024-08-10T00:49:52.550409Z",
     "iopub.status.idle": "2024-08-10T00:50:05.648786Z",
     "shell.execute_reply": "2024-08-10T00:50:05.647889Z"
    },
    "papermill": {
     "duration": 13.108671,
     "end_time": "2024-08-10T00:50:05.651055",
     "exception": false,
     "start_time": "2024-08-10T00:49:52.542384",
     "status": "completed"
    },
    "tags": []
   },
   "outputs": [
    {
     "name": "stdout",
     "output_type": "stream",
     "text": [
      "Looking in links: /kaggle/input/pytorchtabnet/pytorch_tabnet-4.1.0-py3-none-any.whl\r\n",
      "Processing /kaggle/input/pytorchtabnet/pytorch_tabnet-4.1.0-py3-none-any.whl\r\n",
      "Requirement already satisfied: numpy>=1.17 in /opt/conda/lib/python3.10/site-packages (from pytorch-tabnet) (1.26.4)\r\n",
      "Requirement already satisfied: scikit_learn>0.21 in /opt/conda/lib/python3.10/site-packages (from pytorch-tabnet) (1.2.2)\r\n",
      "Requirement already satisfied: scipy>1.4 in /opt/conda/lib/python3.10/site-packages (from pytorch-tabnet) (1.11.4)\r\n",
      "Requirement already satisfied: torch>=1.3 in /opt/conda/lib/python3.10/site-packages (from pytorch-tabnet) (2.1.2)\r\n",
      "Requirement already satisfied: tqdm>=4.36 in /opt/conda/lib/python3.10/site-packages (from pytorch-tabnet) (4.66.4)\r\n",
      "Requirement already satisfied: joblib>=1.1.1 in /opt/conda/lib/python3.10/site-packages (from scikit_learn>0.21->pytorch-tabnet) (1.4.2)\r\n",
      "Requirement already satisfied: threadpoolctl>=2.0.0 in /opt/conda/lib/python3.10/site-packages (from scikit_learn>0.21->pytorch-tabnet) (3.2.0)\r\n",
      "Requirement already satisfied: filelock in /opt/conda/lib/python3.10/site-packages (from torch>=1.3->pytorch-tabnet) (3.13.1)\r\n",
      "Requirement already satisfied: typing-extensions in /opt/conda/lib/python3.10/site-packages (from torch>=1.3->pytorch-tabnet) (4.9.0)\r\n",
      "Requirement already satisfied: sympy in /opt/conda/lib/python3.10/site-packages (from torch>=1.3->pytorch-tabnet) (1.12.1)\r\n",
      "Requirement already satisfied: networkx in /opt/conda/lib/python3.10/site-packages (from torch>=1.3->pytorch-tabnet) (3.2.1)\r\n",
      "Requirement already satisfied: jinja2 in /opt/conda/lib/python3.10/site-packages (from torch>=1.3->pytorch-tabnet) (3.1.2)\r\n",
      "Requirement already satisfied: fsspec in /opt/conda/lib/python3.10/site-packages (from torch>=1.3->pytorch-tabnet) (2024.3.1)\r\n",
      "Requirement already satisfied: MarkupSafe>=2.0 in /opt/conda/lib/python3.10/site-packages (from jinja2->torch>=1.3->pytorch-tabnet) (2.1.3)\r\n",
      "Requirement already satisfied: mpmath<1.4.0,>=1.1.0 in /opt/conda/lib/python3.10/site-packages (from sympy->torch>=1.3->pytorch-tabnet) (1.3.0)\r\n",
      "Installing collected packages: pytorch-tabnet\r\n",
      "Successfully installed pytorch-tabnet-4.1.0\r\n"
     ]
    }
   ],
   "source": [
    "!pip install --no-index --find-links /kaggle/input/pytorchtabnet/pytorch_tabnet-4.1.0-py3-none-any.whl pytorch-tabnet"
   ]
  },
  {
   "cell_type": "code",
   "execution_count": 2,
   "id": "e109829f",
   "metadata": {
    "execution": {
     "iopub.execute_input": "2024-08-10T00:50:05.668798Z",
     "iopub.status.busy": "2024-08-10T00:50:05.668469Z",
     "iopub.status.idle": "2024-08-10T00:50:05.673776Z",
     "shell.execute_reply": "2024-08-10T00:50:05.672913Z"
    },
    "papermill": {
     "duration": 0.016359,
     "end_time": "2024-08-10T00:50:05.675685",
     "exception": false,
     "start_time": "2024-08-10T00:50:05.659326",
     "status": "completed"
    },
    "tags": []
   },
   "outputs": [],
   "source": [
    "NO_RUN = False\n",
    "\n",
    "import os\n",
    "\n",
    "if NO_RUN and not os.getenv('KAGGLE_IS_COMPETITION_RERUN'):\n",
    "    # To save some time.\n",
    "    import pandas as pd\n",
    "    df_sub = pd.read_csv(\"/kaggle/input/isic-2024-challenge/sample_submission.csv\")\n",
    "    df_sub.to_csv(\"submission.csv\", index=False)\n",
    "    exit(0)"
   ]
  },
  {
   "cell_type": "markdown",
   "id": "8019d19d",
   "metadata": {
    "papermill": {
     "duration": 0.007722,
     "end_time": "2024-08-10T00:50:05.691307",
     "exception": false,
     "start_time": "2024-08-10T00:50:05.683585",
     "status": "completed"
    },
    "tags": []
   },
   "source": [
    "# Imports"
   ]
  },
  {
   "cell_type": "code",
   "execution_count": 3,
   "id": "cf8a4e0d",
   "metadata": {
    "execution": {
     "iopub.execute_input": "2024-08-10T00:50:05.708760Z",
     "iopub.status.busy": "2024-08-10T00:50:05.707918Z",
     "iopub.status.idle": "2024-08-10T00:50:14.392907Z",
     "shell.execute_reply": "2024-08-10T00:50:14.392016Z"
    },
    "papermill": {
     "duration": 8.696047,
     "end_time": "2024-08-10T00:50:14.395179",
     "exception": false,
     "start_time": "2024-08-10T00:50:05.699132",
     "status": "completed"
    },
    "tags": []
   },
   "outputs": [],
   "source": [
    "import numpy as np\n",
    "import pandas as pd\n",
    "import pandas.api.types\n",
    "import matplotlib.pyplot as plt\n",
    "import os\n",
    "\n",
    "from sklearn.preprocessing import OrdinalEncoder, StandardScaler\n",
    "from sklearn.metrics import roc_curve, auc, roc_auc_score\n",
    "from sklearn.model_selection import GroupKFold, StratifiedGroupKFold\n",
    "from sklearn.ensemble import VotingClassifier\n",
    "from sklearn.impute import SimpleImputer\n",
    "from sklearn.preprocessing import RobustScaler\n",
    "\n",
    "import optuna\n",
    "import catboost as cb\n",
    "import lightgbm as lgb\n",
    "import xgboost as xgb\n",
    "\n",
    "from pytorch_tabnet.tab_model import TabNetClassifier\n",
    "import torch\n",
    "\n",
    "OPTIMIZE_OPTUNA = False\n",
    "SUBSAMPLE = False\n",
    "SUBSAMPLE_RATIO = 0.5 # only effective if SUBSAMPLE=True\n",
    "DISPLAY_FEATURE_IMPORTANCE = False"
   ]
  },
  {
   "cell_type": "markdown",
   "id": "d5d69add",
   "metadata": {
    "papermill": {
     "duration": 0.008846,
     "end_time": "2024-08-10T00:50:14.412354",
     "exception": false,
     "start_time": "2024-08-10T00:50:14.403508",
     "status": "completed"
    },
    "tags": []
   },
   "source": [
    "## Generating the image level predictions"
   ]
  },
  {
   "cell_type": "code",
   "execution_count": 4,
   "id": "4d83493d",
   "metadata": {
    "execution": {
     "iopub.execute_input": "2024-08-10T00:50:14.429978Z",
     "iopub.status.busy": "2024-08-10T00:50:14.429327Z",
     "iopub.status.idle": "2024-08-10T00:50:25.665925Z",
     "shell.execute_reply": "2024-08-10T00:50:25.664595Z"
    },
    "papermill": {
     "duration": 11.248114,
     "end_time": "2024-08-10T00:50:25.668411",
     "exception": false,
     "start_time": "2024-08-10T00:50:14.420297",
     "status": "completed"
    },
    "tags": []
   },
   "outputs": [
    {
     "name": "stdout",
     "output_type": "stream",
     "text": [
      "BEST_WEIGHT = /kaggle/input/isic-pytorch-training-baseline-image-only/AUROC0.5171_Loss0.3476_epoch35.bin\r\n",
      "100%|█████████████████████████████████████████████| 1/1 [00:00<00:00,  1.10it/s]\r\n"
     ]
    }
   ],
   "source": [
    "!python /kaggle/input/isic-script-inference-effnetv1b0-f313ae/main.py /kaggle/input/isic-pytorch-training-baseline-image-only/AUROC0.5171_Loss0.3476_epoch35.bin\n",
    "!mv submission.csv submission_effnetv1b0.csv"
   ]
  },
  {
   "cell_type": "code",
   "execution_count": 5,
   "id": "0531fc3c",
   "metadata": {
    "execution": {
     "iopub.execute_input": "2024-08-10T00:50:25.686873Z",
     "iopub.status.busy": "2024-08-10T00:50:25.686517Z",
     "iopub.status.idle": "2024-08-10T00:50:35.390866Z",
     "shell.execute_reply": "2024-08-10T00:50:35.389576Z"
    },
    "papermill": {
     "duration": 9.716406,
     "end_time": "2024-08-10T00:50:35.393397",
     "exception": false,
     "start_time": "2024-08-10T00:50:25.676991",
     "status": "completed"
    },
    "tags": []
   },
   "outputs": [
    {
     "name": "stdout",
     "output_type": "stream",
     "text": [
      "BEST_WEIGHT = /kaggle/input/isic-pytorch-training-baseline-eva02/AUROC0.5177_Loss0.2829_epoch7.bin\r\n",
      "100%|█████████████████████████████████████████████| 1/1 [00:00<00:00,  2.69it/s]\r\n"
     ]
    }
   ],
   "source": [
    "!python /kaggle/input/isic-script-inference-eva02/main.py /kaggle/input/isic-pytorch-training-baseline-eva02/AUROC0.5177_Loss0.2829_epoch7.bin\n",
    "!mv submission.csv submission_eva02.csv"
   ]
  },
  {
   "cell_type": "code",
   "execution_count": 6,
   "id": "fa9dde09",
   "metadata": {
    "execution": {
     "iopub.execute_input": "2024-08-10T00:50:35.412181Z",
     "iopub.status.busy": "2024-08-10T00:50:35.411854Z",
     "iopub.status.idle": "2024-08-10T00:50:55.032828Z",
     "shell.execute_reply": "2024-08-10T00:50:55.031553Z"
    },
    "papermill": {
     "duration": 19.63294,
     "end_time": "2024-08-10T00:50:55.035247",
     "exception": false,
     "start_time": "2024-08-10T00:50:35.402307",
     "status": "completed"
    },
    "tags": []
   },
   "outputs": [
    {
     "name": "stdout",
     "output_type": "stream",
     "text": [
      "/kaggle/input/isic-2024-pl-submission-script-and-preds/pl_submission.py:25: DtypeWarning: Columns (51,52) have mixed types. Specify dtype option on import or set low_memory=False.\r\n",
      "  df_train_meta = pd.read_csv(BASE_DATA_DIR + \"train-metadata.csv\")\r\n"
     ]
    }
   ],
   "source": [
    "# My model\n",
    "!python /kaggle/input/isic-2024-pl-submission-script-and-preds/pl_submission.py\n",
    "!mv submission.csv submission_image3.csv"
   ]
  },
  {
   "cell_type": "markdown",
   "id": "b7b7f5a7",
   "metadata": {
    "papermill": {
     "duration": 0.008509,
     "end_time": "2024-08-10T00:50:55.052919",
     "exception": false,
     "start_time": "2024-08-10T00:50:55.044410",
     "status": "completed"
    },
    "tags": []
   },
   "source": [
    "# Feature Engineering"
   ]
  },
  {
   "cell_type": "code",
   "execution_count": 7,
   "id": "8f2aa7e2",
   "metadata": {
    "execution": {
     "iopub.execute_input": "2024-08-10T00:50:55.071789Z",
     "iopub.status.busy": "2024-08-10T00:50:55.071444Z",
     "iopub.status.idle": "2024-08-10T00:51:16.526260Z",
     "shell.execute_reply": "2024-08-10T00:51:16.525474Z"
    },
    "papermill": {
     "duration": 21.467118,
     "end_time": "2024-08-10T00:51:16.528507",
     "exception": false,
     "start_time": "2024-08-10T00:50:55.061389",
     "status": "completed"
    },
    "tags": []
   },
   "outputs": [
    {
     "name": "stderr",
     "output_type": "stream",
     "text": [
      "/tmp/ipykernel_24/3802736947.py:1: DtypeWarning: Columns (51,52) have mixed types. Specify dtype option on import or set low_memory=False.\n",
      "  df_train = pd.read_csv(\"/kaggle/input/isic-2024-challenge/train-metadata.csv\")\n",
      "/tmp/ipykernel_24/3802736947.py:88: DtypeWarning: Columns (51,52) have mixed types. Specify dtype option on import or set low_memory=False.\n",
      "  df_eff = pd.read_csv(\"/kaggle/input/isic-inference-effnetv1b0-for-training-data/train_effnetv1b0.csv\")\n",
      "/tmp/ipykernel_24/3802736947.py:91: DtypeWarning: Columns (51,52) have mixed types. Specify dtype option on import or set low_memory=False.\n",
      "  df_eva = pd.read_csv(\"/kaggle/input/isic-inference-eva02-for-training-data/train_eva02.csv\")\n"
     ]
    }
   ],
   "source": [
    "df_train = pd.read_csv(\"/kaggle/input/isic-2024-challenge/train-metadata.csv\")\n",
    "df_test = pd.read_csv(\"/kaggle/input/isic-2024-challenge/test-metadata.csv\")\n",
    "\n",
    "def feature_engineering(df):\n",
    "    # New features to try...\n",
    "    df[\"lesion_size_ratio\"] = df[\"tbp_lv_minorAxisMM\"] / df[\"clin_size_long_diam_mm\"]\n",
    "    df[\"lesion_shape_index\"] = df[\"tbp_lv_areaMM2\"] / (df[\"tbp_lv_perimeterMM\"] ** 2)\n",
    "    df[\"hue_contrast\"] = (df[\"tbp_lv_H\"] - df[\"tbp_lv_Hext\"]).abs()\n",
    "    df[\"luminance_contrast\"] = (df[\"tbp_lv_L\"] - df[\"tbp_lv_Lext\"]).abs()\n",
    "    df[\"lesion_color_difference\"] = np.sqrt(df[\"tbp_lv_deltaA\"] ** 2 + df[\"tbp_lv_deltaB\"] ** 2 + df[\"tbp_lv_deltaL\"] ** 2)\n",
    "    df[\"border_complexity\"] = df[\"tbp_lv_norm_border\"] + df[\"tbp_lv_symm_2axis\"]\n",
    "    df[\"color_uniformity\"] = df[\"tbp_lv_color_std_mean\"] / df[\"tbp_lv_radial_color_std_max\"]\n",
    "    df[\"3d_position_distance\"] = np.sqrt(df[\"tbp_lv_x\"] ** 2 + df[\"tbp_lv_y\"] ** 2 + df[\"tbp_lv_z\"] ** 2) \n",
    "    df[\"perimeter_to_area_ratio\"] = df[\"tbp_lv_perimeterMM\"] / df[\"tbp_lv_areaMM2\"]\n",
    "    df[\"lesion_visibility_score\"] = df[\"tbp_lv_deltaLBnorm\"] + df[\"tbp_lv_norm_color\"]\n",
    "    df[\"combined_anatomical_site\"] = df[\"anatom_site_general\"] + \"_\" + df[\"tbp_lv_location\"]\n",
    "    df[\"symmetry_border_consistency\"] = df[\"tbp_lv_symm_2axis\"] * df[\"tbp_lv_norm_border\"]\n",
    "    df[\"color_consistency\"] = df[\"tbp_lv_stdL\"] / df[\"tbp_lv_Lext\"]\n",
    "    \n",
    "    df[\"size_age_interaction\"] = df[\"clin_size_long_diam_mm\"] * df[\"age_approx\"]\n",
    "    df[\"hue_color_std_interaction\"] = df[\"tbp_lv_H\"] * df[\"tbp_lv_color_std_mean\"]\n",
    "    df[\"lesion_severity_index\"] = (df[\"tbp_lv_norm_border\"] + df[\"tbp_lv_norm_color\"] + df[\"tbp_lv_eccentricity\"]) / 3\n",
    "    df[\"shape_complexity_index\"] = df[\"border_complexity\"] + df[\"lesion_shape_index\"]\n",
    "    df[\"color_contrast_index\"] = df[\"tbp_lv_deltaA\"] + df[\"tbp_lv_deltaB\"] + df[\"tbp_lv_deltaL\"] + df[\"tbp_lv_deltaLBnorm\"]\n",
    "    df[\"log_lesion_area\"] = np.log(df[\"tbp_lv_areaMM2\"] + 1)\n",
    "    df[\"normalized_lesion_size\"] = df[\"clin_size_long_diam_mm\"] / df[\"age_approx\"]\n",
    "    df[\"mean_hue_difference\"] = (df[\"tbp_lv_H\"] + df[\"tbp_lv_Hext\"]) / 2\n",
    "    df[\"std_dev_contrast\"] = np.sqrt((df[\"tbp_lv_deltaA\"] ** 2 + df[\"tbp_lv_deltaB\"] ** 2 + df[\"tbp_lv_deltaL\"] ** 2) / 3)\n",
    "    df[\"color_shape_composite_index\"] = (df[\"tbp_lv_color_std_mean\"] + df[\"tbp_lv_area_perim_ratio\"] + df[\"tbp_lv_symm_2axis\"]) / 3\n",
    "    df[\"3d_lesion_orientation\"] = np.arctan2(df_train[\"tbp_lv_y\"], df_train[\"tbp_lv_x\"])\n",
    "    df[\"overall_color_difference\"] = (df[\"tbp_lv_deltaA\"] + df[\"tbp_lv_deltaB\"] + df[\"tbp_lv_deltaL\"]) / 3\n",
    "    df[\"symmetry_perimeter_interaction\"] = df[\"tbp_lv_symm_2axis\"] * df[\"tbp_lv_perimeterMM\"]\n",
    "    df[\"comprehensive_lesion_index\"] = (df[\"tbp_lv_area_perim_ratio\"] + df[\"tbp_lv_eccentricity\"] + df[\"tbp_lv_norm_color\"] + df[\"tbp_lv_symm_2axis\"]) / 4\n",
    "\n",
    "    # Taken from: https://www.kaggle.com/code/dschettler8845/isic-detect-skin-cancer-let-s-learn-together\n",
    "    df[\"color_variance_ratio\"] = df[\"tbp_lv_color_std_mean\"] / df[\"tbp_lv_stdLExt\"]\n",
    "    df[\"border_color_interaction\"] = df[\"tbp_lv_norm_border\"] * df[\"tbp_lv_norm_color\"]\n",
    "    df[\"size_color_contrast_ratio\"] = df[\"clin_size_long_diam_mm\"] / df[\"tbp_lv_deltaLBnorm\"]\n",
    "    df[\"age_normalized_nevi_confidence\"] = df[\"tbp_lv_nevi_confidence\"] / df[\"age_approx\"]\n",
    "    df[\"color_asymmetry_index\"] = df[\"tbp_lv_radial_color_std_max\"] * df[\"tbp_lv_symm_2axis\"]\n",
    "    df[\"3d_volume_approximation\"] = df[\"tbp_lv_areaMM2\"] * np.sqrt(df[\"tbp_lv_x\"]**2 + df[\"tbp_lv_y\"]**2 + df[\"tbp_lv_z\"]**2)\n",
    "    df[\"color_range\"] = (df[\"tbp_lv_L\"] - df[\"tbp_lv_Lext\"]).abs() + (df[\"tbp_lv_A\"] - df[\"tbp_lv_Aext\"]).abs() + (df[\"tbp_lv_B\"] - df[\"tbp_lv_Bext\"]).abs()\n",
    "    df[\"shape_color_consistency\"] = df[\"tbp_lv_eccentricity\"] * df[\"tbp_lv_color_std_mean\"]\n",
    "    df[\"border_length_ratio\"] = df[\"tbp_lv_perimeterMM\"] / (2 * np.pi * np.sqrt(df[\"tbp_lv_areaMM2\"] / np.pi))\n",
    "    df[\"age_size_symmetry_index\"] = df[\"age_approx\"] * df[\"clin_size_long_diam_mm\"] * df[\"tbp_lv_symm_2axis\"]\n",
    "    # Until here.\n",
    "    \n",
    "    new_num_cols = [\n",
    "        \"lesion_size_ratio\", \"lesion_shape_index\", \"hue_contrast\",\n",
    "        \"luminance_contrast\", \"lesion_color_difference\", \"border_complexity\",\n",
    "        \"color_uniformity\", \"3d_position_distance\", \"perimeter_to_area_ratio\",\n",
    "        \"lesion_visibility_score\", \"symmetry_border_consistency\", \"color_consistency\",\n",
    "\n",
    "        \"size_age_interaction\", \"hue_color_std_interaction\", \"lesion_severity_index\", \n",
    "        \"shape_complexity_index\", \"color_contrast_index\", \"log_lesion_area\",\n",
    "        \"normalized_lesion_size\", \"mean_hue_difference\", \"std_dev_contrast\",\n",
    "        \"color_shape_composite_index\", \"3d_lesion_orientation\", \"overall_color_difference\",\n",
    "        \"symmetry_perimeter_interaction\", \"comprehensive_lesion_index\",\n",
    "        \n",
    "        \"color_variance_ratio\", \"border_color_interaction\", \"size_color_contrast_ratio\",\n",
    "        \"age_normalized_nevi_confidence\", \"color_asymmetry_index\", \"3d_volume_approximation\",\n",
    "        \"color_range\", \"shape_color_consistency\", \"border_length_ratio\", \"age_size_symmetry_index\",\n",
    "    ]\n",
    "    new_cat_cols = [\"combined_anatomical_site\"]\n",
    "    return df, new_num_cols, new_cat_cols\n",
    "\n",
    "num_cols = [\n",
    "    'age_approx', 'clin_size_long_diam_mm', 'tbp_lv_A', 'tbp_lv_Aext', 'tbp_lv_B', 'tbp_lv_Bext', \n",
    "    'tbp_lv_C', 'tbp_lv_Cext', 'tbp_lv_H', 'tbp_lv_Hext', 'tbp_lv_L', \n",
    "    'tbp_lv_Lext', 'tbp_lv_areaMM2', 'tbp_lv_area_perim_ratio', 'tbp_lv_color_std_mean', \n",
    "    'tbp_lv_deltaA', 'tbp_lv_deltaB', 'tbp_lv_deltaL', 'tbp_lv_deltaLB',\n",
    "    'tbp_lv_deltaLBnorm', 'tbp_lv_eccentricity', 'tbp_lv_minorAxisMM',\n",
    "    'tbp_lv_nevi_confidence', 'tbp_lv_norm_border', 'tbp_lv_norm_color',\n",
    "    'tbp_lv_perimeterMM', 'tbp_lv_radial_color_std_max', 'tbp_lv_stdL',\n",
    "    'tbp_lv_stdLExt', 'tbp_lv_symm_2axis', 'tbp_lv_symm_2axis_angle',\n",
    "    'tbp_lv_x', 'tbp_lv_y', 'tbp_lv_z',\n",
    "]\n",
    "df_train[num_cols] = df_train[num_cols].fillna(df_train[num_cols].median())\n",
    "df_test[num_cols] = df_test[num_cols].fillna(df_train[num_cols].median())\n",
    "df_train, new_num_cols, new_cat_cols = feature_engineering(df_train.copy())\n",
    "df_test, _, _ = feature_engineering(df_test.copy())\n",
    "num_cols += new_num_cols\n",
    "\n",
    "# anatom_site_general\n",
    "cat_cols = [\"sex\", \"tbp_tile_type\", \"tbp_lv_location\", \"tbp_lv_location_simple\"] + new_cat_cols\n",
    "train_cols = num_cols + cat_cols\n",
    "\n",
    "df_eff = pd.read_csv(\"/kaggle/input/isic-inference-effnetv1b0-for-training-data/train_effnetv1b0.csv\")\n",
    "df_eff = df_eff[[\"target_effnetv1b0\"]]\n",
    "\n",
    "df_eva = pd.read_csv(\"/kaggle/input/isic-inference-eva02-for-training-data/train_eva02.csv\")\n",
    "df_eva = df_eva[[\"target_eva02\"]]\n",
    "\n",
    "df_image_3 = pd.read_csv(\"/kaggle/input/isic-2024-pl-submission-script-and-preds/train_preds.csv\")\n",
    "\n",
    "df_train[\"target_effnetv1b0\"] = df_eff[\"target_effnetv1b0\"]\n",
    "df_train[\"target_eva02\"] = df_eva[\"target_eva02\"]\n",
    "df_train[\"target_3\"] = df_image_3[\"pred\"]\n",
    "\n",
    "train_cols += [\"target_effnetv1b0\",\"target_eva02\", \"target_3\"]\n",
    "\n",
    "category_encoder = OrdinalEncoder(\n",
    "    categories='auto',\n",
    "    dtype=int,\n",
    "    handle_unknown='use_encoded_value',\n",
    "    unknown_value=-2,\n",
    "    encoded_missing_value=-1,\n",
    ")\n",
    "\n",
    "X_cat = category_encoder.fit_transform(df_train[cat_cols])\n",
    "for c, cat_col in enumerate(cat_cols):\n",
    "    df_train[cat_col] = X_cat[:, c]"
   ]
  },
  {
   "cell_type": "markdown",
   "id": "73ba691d",
   "metadata": {
    "papermill": {
     "duration": 0.008716,
     "end_time": "2024-08-10T00:51:16.546472",
     "exception": false,
     "start_time": "2024-08-10T00:51:16.537756",
     "status": "completed"
    },
    "tags": []
   },
   "source": [
    "# CV Setup"
   ]
  },
  {
   "cell_type": "code",
   "execution_count": 8,
   "id": "131956f9",
   "metadata": {
    "execution": {
     "iopub.execute_input": "2024-08-10T00:51:16.565479Z",
     "iopub.status.busy": "2024-08-10T00:51:16.564945Z",
     "iopub.status.idle": "2024-08-10T00:51:18.831885Z",
     "shell.execute_reply": "2024-08-10T00:51:18.831105Z"
    },
    "papermill": {
     "duration": 2.279038,
     "end_time": "2024-08-10T00:51:18.834222",
     "exception": false,
     "start_time": "2024-08-10T00:51:16.555184",
     "status": "completed"
    },
    "tags": []
   },
   "outputs": [],
   "source": [
    "N_SPLITS = 5\n",
    "gkf = StratifiedGroupKFold(n_splits=N_SPLITS, shuffle=True, random_state=42)\n",
    "\n",
    "if SUBSAMPLE:\n",
    "    df_pos = df_train[df_train[\"target\"] == 1]\n",
    "    df_neg = df_train[df_train[\"target\"] == 0]\n",
    "    df_neg = df_neg.sample(frac=SUBSAMPLE_RATIO, random_state=42)\n",
    "    df_train = pd.concat([df_pos, df_neg]).sample(frac=1.0, random_state=42).reset_index(drop=True)    \n",
    "\n",
    "df_train[\"fold\"] = -1\n",
    "for idx, (train_idx, val_idx) in enumerate(gkf.split(df_train, df_train[\"target\"], groups=df_train[\"patient_id\"])):\n",
    "    df_train.loc[val_idx, \"fold\"] = idx"
   ]
  },
  {
   "cell_type": "markdown",
   "id": "ab451368",
   "metadata": {
    "papermill": {
     "duration": 0.008549,
     "end_time": "2024-08-10T00:51:18.852067",
     "exception": false,
     "start_time": "2024-08-10T00:51:18.843518",
     "status": "completed"
    },
    "tags": []
   },
   "source": [
    "# Competition Metric"
   ]
  },
  {
   "cell_type": "code",
   "execution_count": 9,
   "id": "af40443a",
   "metadata": {
    "execution": {
     "iopub.execute_input": "2024-08-10T00:51:18.871010Z",
     "iopub.status.busy": "2024-08-10T00:51:18.870389Z",
     "iopub.status.idle": "2024-08-10T00:51:18.878904Z",
     "shell.execute_reply": "2024-08-10T00:51:18.878031Z"
    },
    "papermill": {
     "duration": 0.020135,
     "end_time": "2024-08-10T00:51:18.880901",
     "exception": false,
     "start_time": "2024-08-10T00:51:18.860766",
     "status": "completed"
    },
    "tags": []
   },
   "outputs": [],
   "source": [
    "def comp_score(solution: pd.DataFrame, submission: pd.DataFrame, row_id_column_name: str, min_tpr: float=0.80):\n",
    "    v_gt = abs(np.asarray(solution.values)-1)\n",
    "    v_pred = np.array([1.0 - x for x in submission.values])\n",
    "    max_fpr = abs(1-min_tpr)\n",
    "    partial_auc_scaled = roc_auc_score(v_gt, v_pred, max_fpr=max_fpr)\n",
    "    # change scale from [0.5, 1.0] to [0.5 * max_fpr**2, max_fpr]\n",
    "    # https://math.stackexchange.com/questions/914823/shift-numbers-into-a-different-range\n",
    "    partial_auc = 0.5 * max_fpr**2 + (max_fpr - 0.5 * max_fpr**2) / (1.0 - 0.5) * (partial_auc_scaled - 0.5)\n",
    "    return partial_auc\n",
    "\n",
    "def custom_lgbm_metric(y_true, y_hat):\n",
    "    # TODO: Refactor with the above.\n",
    "    min_tpr = 0.80\n",
    "    v_gt = abs(y_true-1)\n",
    "    v_pred = np.array([1.0 - x for x in y_hat])\n",
    "    max_fpr = abs(1-min_tpr)\n",
    "    partial_auc_scaled = roc_auc_score(v_gt, v_pred, max_fpr=max_fpr)\n",
    "    # change scale from [0.5, 1.0] to [0.5 * max_fpr**2, max_fpr]\n",
    "    # https://math.stackexchange.com/questions/914823/shift-numbers-into-a-different-range\n",
    "    partial_auc = 0.5 * max_fpr**2 + (max_fpr - 0.5 * max_fpr**2) / (1.0 - 0.5) * (partial_auc_scaled - 0.5)\n",
    "    return \"pauc80\", partial_auc, True"
   ]
  },
  {
   "cell_type": "markdown",
   "id": "20590d88",
   "metadata": {
    "papermill": {
     "duration": 0.008435,
     "end_time": "2024-08-10T00:51:18.898147",
     "exception": false,
     "start_time": "2024-08-10T00:51:18.889712",
     "status": "completed"
    },
    "tags": []
   },
   "source": [
    "# Tabnet"
   ]
  },
  {
   "cell_type": "code",
   "execution_count": 10,
   "id": "e965f17f",
   "metadata": {
    "execution": {
     "iopub.execute_input": "2024-08-10T00:51:18.917096Z",
     "iopub.status.busy": "2024-08-10T00:51:18.916568Z",
     "iopub.status.idle": "2024-08-10T02:45:37.539816Z",
     "shell.execute_reply": "2024-08-10T02:45:37.538664Z"
    },
    "papermill": {
     "duration": 6858.647235,
     "end_time": "2024-08-10T02:45:37.554148",
     "exception": false,
     "start_time": "2024-08-10T00:51:18.906913",
     "status": "completed"
    },
    "tags": []
   },
   "outputs": [
    {
     "name": "stdout",
     "output_type": "stream",
     "text": [
      "Using device: cuda\n",
      "Training fold 0\n"
     ]
    },
    {
     "name": "stderr",
     "output_type": "stream",
     "text": [
      "/opt/conda/lib/python3.10/site-packages/pytorch_tabnet/abstract_model.py:82: UserWarning: Device used : cuda\n",
      "  warnings.warn(f\"Device used : {self.device}\")\n"
     ]
    },
    {
     "name": "stdout",
     "output_type": "stream",
     "text": [
      "epoch 0  | loss: 0.0101  | val_0_auc: 0.76022 |  0:00:22s\n",
      "epoch 10 | loss: 0.0055  | val_0_auc: 0.95622 |  0:03:53s\n",
      "epoch 20 | loss: 0.00501 | val_0_auc: 0.95148 |  0:07:29s\n",
      "epoch 30 | loss: 0.00482 | val_0_auc: 0.95957 |  0:11:01s\n",
      "\n",
      "Early stopping occurred at epoch 32 with best_epoch = 12 and best_val_0_auc = 0.96268\n"
     ]
    },
    {
     "name": "stderr",
     "output_type": "stream",
     "text": [
      "/opt/conda/lib/python3.10/site-packages/pytorch_tabnet/callbacks.py:172: UserWarning: Best weights from best epoch are automatically used!\n",
      "  warnings.warn(wrn_msg)\n"
     ]
    },
    {
     "name": "stdout",
     "output_type": "stream",
     "text": [
      "fold: 0 - Partial AUC Score: 0.17454\n",
      "Training fold 1\n"
     ]
    },
    {
     "name": "stderr",
     "output_type": "stream",
     "text": [
      "/opt/conda/lib/python3.10/site-packages/pytorch_tabnet/abstract_model.py:82: UserWarning: Device used : cuda\n",
      "  warnings.warn(f\"Device used : {self.device}\")\n"
     ]
    },
    {
     "name": "stdout",
     "output_type": "stream",
     "text": [
      "epoch 0  | loss: 0.01105 | val_0_auc: 0.8649  |  0:00:20s\n",
      "epoch 10 | loss: 0.00565 | val_0_auc: 0.95012 |  0:03:49s\n",
      "epoch 20 | loss: 0.00547 | val_0_auc: 0.96701 |  0:07:18s\n",
      "epoch 30 | loss: 0.00531 | val_0_auc: 0.97914 |  0:10:47s\n",
      "epoch 40 | loss: 0.00549 | val_0_auc: 0.95793 |  0:14:16s\n",
      "\n",
      "Early stopping occurred at epoch 47 with best_epoch = 27 and best_val_0_auc = 0.98189\n"
     ]
    },
    {
     "name": "stderr",
     "output_type": "stream",
     "text": [
      "/opt/conda/lib/python3.10/site-packages/pytorch_tabnet/callbacks.py:172: UserWarning: Best weights from best epoch are automatically used!\n",
      "  warnings.warn(wrn_msg)\n"
     ]
    },
    {
     "name": "stdout",
     "output_type": "stream",
     "text": [
      "fold: 1 - Partial AUC Score: 0.18761\n",
      "Training fold 2\n"
     ]
    },
    {
     "name": "stderr",
     "output_type": "stream",
     "text": [
      "/opt/conda/lib/python3.10/site-packages/pytorch_tabnet/abstract_model.py:82: UserWarning: Device used : cuda\n",
      "  warnings.warn(f\"Device used : {self.device}\")\n"
     ]
    },
    {
     "name": "stdout",
     "output_type": "stream",
     "text": [
      "epoch 0  | loss: 0.01095 | val_0_auc: 0.81997 |  0:00:21s\n",
      "epoch 10 | loss: 0.00594 | val_0_auc: 0.96478 |  0:03:51s\n",
      "epoch 20 | loss: 0.00536 | val_0_auc: 0.97387 |  0:07:20s\n",
      "epoch 30 | loss: 0.00534 | val_0_auc: 0.97916 |  0:10:48s\n",
      "epoch 40 | loss: 0.00548 | val_0_auc: 0.98198 |  0:14:19s\n",
      "epoch 50 | loss: 0.00545 | val_0_auc: 0.98482 |  0:17:49s\n",
      "epoch 60 | loss: 0.00509 | val_0_auc: 0.98413 |  0:21:18s\n",
      "epoch 70 | loss: 0.00515 | val_0_auc: 0.9799  |  0:24:48s\n",
      "epoch 80 | loss: 0.0051  | val_0_auc: 0.98567 |  0:28:22s\n",
      "epoch 90 | loss: 0.00494 | val_0_auc: 0.98588 |  0:31:52s\n",
      "Stop training because you reached max_epochs = 100 with best_epoch = 99 and best_val_0_auc = 0.98648\n"
     ]
    },
    {
     "name": "stderr",
     "output_type": "stream",
     "text": [
      "/opt/conda/lib/python3.10/site-packages/pytorch_tabnet/callbacks.py:172: UserWarning: Best weights from best epoch are automatically used!\n",
      "  warnings.warn(wrn_msg)\n"
     ]
    },
    {
     "name": "stdout",
     "output_type": "stream",
     "text": [
      "fold: 2 - Partial AUC Score: 0.19077\n",
      "Training fold 3\n"
     ]
    },
    {
     "name": "stderr",
     "output_type": "stream",
     "text": [
      "/opt/conda/lib/python3.10/site-packages/pytorch_tabnet/abstract_model.py:82: UserWarning: Device used : cuda\n",
      "  warnings.warn(f\"Device used : {self.device}\")\n"
     ]
    },
    {
     "name": "stdout",
     "output_type": "stream",
     "text": [
      "epoch 0  | loss: 0.01046 | val_0_auc: 0.65961 |  0:00:20s\n",
      "epoch 10 | loss: 0.00545 | val_0_auc: 0.93921 |  0:03:48s\n",
      "epoch 20 | loss: 0.00557 | val_0_auc: 0.96572 |  0:07:16s\n",
      "epoch 30 | loss: 0.00536 | val_0_auc: 0.94292 |  0:10:46s\n",
      "epoch 40 | loss: 0.00503 | val_0_auc: 0.95721 |  0:14:16s\n",
      "\n",
      "Early stopping occurred at epoch 43 with best_epoch = 23 and best_val_0_auc = 0.96643\n"
     ]
    },
    {
     "name": "stderr",
     "output_type": "stream",
     "text": [
      "/opt/conda/lib/python3.10/site-packages/pytorch_tabnet/callbacks.py:172: UserWarning: Best weights from best epoch are automatically used!\n",
      "  warnings.warn(wrn_msg)\n"
     ]
    },
    {
     "name": "stdout",
     "output_type": "stream",
     "text": [
      "fold: 3 - Partial AUC Score: 0.17418\n",
      "Training fold 4\n"
     ]
    },
    {
     "name": "stderr",
     "output_type": "stream",
     "text": [
      "/opt/conda/lib/python3.10/site-packages/pytorch_tabnet/abstract_model.py:82: UserWarning: Device used : cuda\n",
      "  warnings.warn(f\"Device used : {self.device}\")\n"
     ]
    },
    {
     "name": "stdout",
     "output_type": "stream",
     "text": [
      "epoch 0  | loss: 0.01002 | val_0_auc: 0.65884 |  0:00:21s\n",
      "epoch 10 | loss: 0.00547 | val_0_auc: 0.96988 |  0:03:59s\n",
      "epoch 20 | loss: 0.00568 | val_0_auc: 0.96277 |  0:07:35s\n",
      "epoch 30 | loss: 0.00559 | val_0_auc: 0.96652 |  0:11:09s\n",
      "epoch 40 | loss: 0.00537 | val_0_auc: 0.97946 |  0:14:42s\n",
      "epoch 50 | loss: 0.0052  | val_0_auc: 0.97521 |  0:18:16s\n",
      "epoch 60 | loss: 0.00499 | val_0_auc: 0.97989 |  0:21:52s\n",
      "epoch 70 | loss: 0.005   | val_0_auc: 0.97858 |  0:25:29s\n",
      "epoch 80 | loss: 0.00514 | val_0_auc: 0.9736  |  0:29:00s\n",
      "\n",
      "Early stopping occurred at epoch 84 with best_epoch = 64 and best_val_0_auc = 0.98204\n"
     ]
    },
    {
     "name": "stderr",
     "output_type": "stream",
     "text": [
      "/opt/conda/lib/python3.10/site-packages/pytorch_tabnet/callbacks.py:172: UserWarning: Best weights from best epoch are automatically used!\n",
      "  warnings.warn(wrn_msg)\n"
     ]
    },
    {
     "name": "stdout",
     "output_type": "stream",
     "text": [
      "fold: 4 - Partial AUC Score: 0.18785\n",
      "Mean Partial AUC Score: 0.18299\n"
     ]
    }
   ],
   "source": [
    "def preprocess_data(X):\n",
    "    X = X.replace([np.inf, -np.inf], np.nan)\n",
    "    \n",
    "    imputer = SimpleImputer(strategy='median')\n",
    "    X = pd.DataFrame(imputer.fit_transform(X), columns=X.columns)\n",
    "    \n",
    "    scaler = RobustScaler()\n",
    "    X = pd.DataFrame(scaler.fit_transform(X), columns=X.columns)\n",
    "    \n",
    "    return X\n",
    "\n",
    "device = torch.device(\"cuda\" if torch.cuda.is_available() else \"cpu\")\n",
    "print(f\"Using device: {device}\")\n",
    "\n",
    "tabnet_params = {\n",
    "    \"n_d\": 64,\n",
    "    \"n_a\": 64,\n",
    "    \"n_steps\": 5,\n",
    "    \"gamma\": 1.5,\n",
    "    \"n_independent\": 2,\n",
    "    \"n_shared\": 2,\n",
    "    \"lambda_sparse\": 1e-4,\n",
    "    \"optimizer_params\": dict(lr=2e-2),\n",
    "    \"scheduler_params\": dict(mode=\"max\", patience=5, min_lr=1e-5, factor=0.9),\n",
    "    \"scheduler_fn\": torch.optim.lr_scheduler.ReduceLROnPlateau,\n",
    "    \"verbose\": 10,\n",
    "    \"device_name\": device  # デバイスを指定\n",
    "}\n",
    "\n",
    "\n",
    "tabnet_scores = []\n",
    "tabnet_models = []\n",
    "oof_df = pd.DataFrame()\n",
    "\n",
    "df_train[train_cols] = preprocess_data(df_train[train_cols])\n",
    "\n",
    "for fold in range(N_SPLITS):\n",
    "    print(f\"Training fold {fold}\")\n",
    "    \n",
    "    _df_train = df_train[df_train[\"fold\"] != fold].reset_index(drop=True)\n",
    "    _df_valid = df_train[df_train[\"fold\"] == fold].reset_index(drop=True)\n",
    "    \n",
    "    scaler = StandardScaler()\n",
    "    X_train = scaler.fit_transform(_df_train[train_cols])\n",
    "    X_valid = scaler.transform(_df_valid[train_cols])\n",
    "    y_train = _df_train[\"target\"].values\n",
    "    y_valid = _df_valid[\"target\"].values\n",
    "    \n",
    "    model = TabNetClassifier(**tabnet_params)\n",
    "    model.fit(\n",
    "        X_train=X_train, y_train=y_train,\n",
    "        eval_set=[(X_valid, y_valid)],\n",
    "        eval_metric=['auc'],  \n",
    "        max_epochs=100,\n",
    "        patience=20,\n",
    "        batch_size=1024,\n",
    "        virtual_batch_size=128,\n",
    "        num_workers=4,\n",
    "        drop_last=False\n",
    "    )\n",
    "    \n",
    "    preds = model.predict_proba(X_valid)[:, 1]\n",
    "    \n",
    "    solution_df = pd.DataFrame({'target': y_valid})\n",
    "    submission_df = pd.DataFrame({'prediction': preds})\n",
    "    score = comp_score(solution_df, submission_df, row_id_column_name=\"\", min_tpr=0.80)\n",
    "    print(f\"fold: {fold} - Partial AUC Score: {score:.5f}\")\n",
    "    \n",
    "    tabnet_scores.append(score)\n",
    "    tabnet_models.append(model)\n",
    "    \n",
    "    oof_single = _df_valid[[\"isic_id\", \"target\"]].copy()\n",
    "    oof_single[\"pred\"] = preds\n",
    "    oof_df = pd.concat([oof_df, oof_single])\n",
    "\n",
    "mean_score = np.mean(tabnet_scores)\n",
    "print(f\"Mean Partial AUC Score: {mean_score:.5f}\")"
   ]
  },
  {
   "cell_type": "code",
   "execution_count": 11,
   "id": "339f68c0",
   "metadata": {
    "execution": {
     "iopub.execute_input": "2024-08-10T02:45:37.582719Z",
     "iopub.status.busy": "2024-08-10T02:45:37.581249Z",
     "iopub.status.idle": "2024-08-10T02:45:37.590383Z",
     "shell.execute_reply": "2024-08-10T02:45:37.589504Z"
    },
    "papermill": {
     "duration": 0.025191,
     "end_time": "2024-08-10T02:45:37.592289",
     "exception": false,
     "start_time": "2024-08-10T02:45:37.567098",
     "status": "completed"
    },
    "tags": []
   },
   "outputs": [
    {
     "data": {
      "text/plain": [
       "'\\nimport joblib\\n\\ndef save_tabnet_model(model, path):\\n    save_dict = {}\\n    \\n    save_dict[\\'model\\'] = model\\n    \\n    if hasattr(model, \\'feature_importances_\\'):\\n        save_dict[\\'feature_importances\\'] = model.feature_importances_\\n    \\n    for attr in [\\'input_dim\\', \\'output_dim\\', \\'n_d\\', \\'n_a\\', \\'n_steps\\']:\\n        if hasattr(model, attr):\\n            save_dict[attr] = getattr(model, attr)\\n    \\n    joblib.dump(save_dict, path)\\n\\nsave_dir = \"tabnet_model\"\\nos.makedirs(save_dir, exist_ok=True)\\n\\nfor i, model in enumerate(tabnet_models):\\n    save_path = os.path.join(save_dir, f\"tabnet_model_fold_{i}.joblib\")\\n    save_tabnet_model(model, save_path)\\n\\nprint(f\"Models saved in {save_dir}\")\\n'"
      ]
     },
     "execution_count": 11,
     "metadata": {},
     "output_type": "execute_result"
    }
   ],
   "source": [
    "'''\n",
    "import joblib\n",
    "\n",
    "def save_tabnet_model(model, path):\n",
    "    save_dict = {}\n",
    "    \n",
    "    save_dict['model'] = model\n",
    "    \n",
    "    if hasattr(model, 'feature_importances_'):\n",
    "        save_dict['feature_importances'] = model.feature_importances_\n",
    "    \n",
    "    for attr in ['input_dim', 'output_dim', 'n_d', 'n_a', 'n_steps']:\n",
    "        if hasattr(model, attr):\n",
    "            save_dict[attr] = getattr(model, attr)\n",
    "    \n",
    "    joblib.dump(save_dict, path)\n",
    "\n",
    "save_dir = \"tabnet_model\"\n",
    "os.makedirs(save_dir, exist_ok=True)\n",
    "\n",
    "for i, model in enumerate(tabnet_models):\n",
    "    save_path = os.path.join(save_dir, f\"tabnet_model_fold_{i}.joblib\")\n",
    "    save_tabnet_model(model, save_path)\n",
    "\n",
    "print(f\"Models saved in {save_dir}\")\n",
    "'''"
   ]
  },
  {
   "cell_type": "code",
   "execution_count": 12,
   "id": "faf2b1ce",
   "metadata": {
    "execution": {
     "iopub.execute_input": "2024-08-10T02:45:37.619452Z",
     "iopub.status.busy": "2024-08-10T02:45:37.619184Z",
     "iopub.status.idle": "2024-08-10T02:45:37.623504Z",
     "shell.execute_reply": "2024-08-10T02:45:37.622649Z"
    },
    "papermill": {
     "duration": 0.020137,
     "end_time": "2024-08-10T02:45:37.625451",
     "exception": false,
     "start_time": "2024-08-10T02:45:37.605314",
     "status": "completed"
    },
    "tags": []
   },
   "outputs": [],
   "source": [
    "def load_tabnet_model(path):\n",
    "    loaded_dict = joblib.load(path)\n",
    "    model = loaded_dict['model']\n",
    "    return model\n",
    "\n",
    "#loaded_model = load_tabnet_model(\"path/to/model.joblib\")"
   ]
  },
  {
   "cell_type": "markdown",
   "id": "108ac82c",
   "metadata": {
    "papermill": {
     "duration": 0.012759,
     "end_time": "2024-08-10T02:45:37.651208",
     "exception": false,
     "start_time": "2024-08-10T02:45:37.638449",
     "status": "completed"
    },
    "tags": []
   },
   "source": [
    "# Inference"
   ]
  },
  {
   "cell_type": "code",
   "execution_count": 13,
   "id": "a5f4cc8c",
   "metadata": {
    "execution": {
     "iopub.execute_input": "2024-08-10T02:45:37.678264Z",
     "iopub.status.busy": "2024-08-10T02:45:37.678021Z",
     "iopub.status.idle": "2024-08-10T02:45:37.690538Z",
     "shell.execute_reply": "2024-08-10T02:45:37.689522Z"
    },
    "papermill": {
     "duration": 0.028419,
     "end_time": "2024-08-10T02:45:37.692580",
     "exception": false,
     "start_time": "2024-08-10T02:45:37.664161",
     "status": "completed"
    },
    "tags": []
   },
   "outputs": [],
   "source": [
    "df_eff = pd.read_csv(\"submission_effnetv1b0.csv\")\n",
    "df_test[\"target_effnetv1b0\"] = df_eff[\"target\"]\n",
    "\n",
    "df_eva = pd.read_csv(\"submission_eva02.csv\")\n",
    "df_test[\"target_eva02\"] = df_eva[\"target\"]\n",
    "\n",
    "df_3 = pd.read_csv(\"submission_image3.csv\")\n",
    "df_test[\"target_3\"] = df_3[\"target\"]"
   ]
  },
  {
   "cell_type": "code",
   "execution_count": 14,
   "id": "6388ebd9",
   "metadata": {
    "execution": {
     "iopub.execute_input": "2024-08-10T02:45:37.720908Z",
     "iopub.status.busy": "2024-08-10T02:45:37.720599Z",
     "iopub.status.idle": "2024-08-10T02:45:37.729231Z",
     "shell.execute_reply": "2024-08-10T02:45:37.728320Z"
    },
    "papermill": {
     "duration": 0.024798,
     "end_time": "2024-08-10T02:45:37.731357",
     "exception": false,
     "start_time": "2024-08-10T02:45:37.706559",
     "status": "completed"
    },
    "tags": []
   },
   "outputs": [],
   "source": [
    "X_cat = category_encoder.transform(df_test[cat_cols])\n",
    "for c, cat_col in enumerate(cat_cols):\n",
    "    df_test[cat_col] = X_cat[:, c]"
   ]
  },
  {
   "cell_type": "code",
   "execution_count": 15,
   "id": "7c60017f",
   "metadata": {
    "execution": {
     "iopub.execute_input": "2024-08-10T02:45:37.759045Z",
     "iopub.status.busy": "2024-08-10T02:45:37.758787Z",
     "iopub.status.idle": "2024-08-10T02:45:37.897149Z",
     "shell.execute_reply": "2024-08-10T02:45:37.896217Z"
    },
    "papermill": {
     "duration": 0.154483,
     "end_time": "2024-08-10T02:45:37.899324",
     "exception": false,
     "start_time": "2024-08-10T02:45:37.744841",
     "status": "completed"
    },
    "tags": []
   },
   "outputs": [],
   "source": [
    "df_test[train_cols] = preprocess_data(df_test[train_cols])\n",
    "X_test = StandardScaler().fit_transform(df_test[train_cols])\n",
    "\n",
    "tabnet_preds = np.mean([model.predict_proba(X_test)[:, 1] for model in tabnet_models], axis=0)"
   ]
  },
  {
   "cell_type": "code",
   "execution_count": 16,
   "id": "54a98788",
   "metadata": {
    "execution": {
     "iopub.execute_input": "2024-08-10T02:45:37.928724Z",
     "iopub.status.busy": "2024-08-10T02:45:37.928231Z",
     "iopub.status.idle": "2024-08-10T02:45:37.945592Z",
     "shell.execute_reply": "2024-08-10T02:45:37.944754Z"
    },
    "papermill": {
     "duration": 0.033822,
     "end_time": "2024-08-10T02:45:37.947419",
     "exception": false,
     "start_time": "2024-08-10T02:45:37.913597",
     "status": "completed"
    },
    "tags": []
   },
   "outputs": [
    {
     "data": {
      "text/html": [
       "<div>\n",
       "<style scoped>\n",
       "    .dataframe tbody tr th:only-of-type {\n",
       "        vertical-align: middle;\n",
       "    }\n",
       "\n",
       "    .dataframe tbody tr th {\n",
       "        vertical-align: top;\n",
       "    }\n",
       "\n",
       "    .dataframe thead th {\n",
       "        text-align: right;\n",
       "    }\n",
       "</style>\n",
       "<table border=\"1\" class=\"dataframe\">\n",
       "  <thead>\n",
       "    <tr style=\"text-align: right;\">\n",
       "      <th></th>\n",
       "      <th>isic_id</th>\n",
       "      <th>target</th>\n",
       "    </tr>\n",
       "  </thead>\n",
       "  <tbody>\n",
       "    <tr>\n",
       "      <th>0</th>\n",
       "      <td>ISIC_0015657</td>\n",
       "      <td>0.000882</td>\n",
       "    </tr>\n",
       "    <tr>\n",
       "      <th>1</th>\n",
       "      <td>ISIC_0015729</td>\n",
       "      <td>0.000015</td>\n",
       "    </tr>\n",
       "    <tr>\n",
       "      <th>2</th>\n",
       "      <td>ISIC_0015740</td>\n",
       "      <td>0.000057</td>\n",
       "    </tr>\n",
       "  </tbody>\n",
       "</table>\n",
       "</div>"
      ],
      "text/plain": [
       "        isic_id    target\n",
       "0  ISIC_0015657  0.000882\n",
       "1  ISIC_0015729  0.000015\n",
       "2  ISIC_0015740  0.000057"
      ]
     },
     "execution_count": 16,
     "metadata": {},
     "output_type": "execute_result"
    }
   ],
   "source": [
    "df_sub = pd.read_csv(\"/kaggle/input/isic-2024-challenge/sample_submission.csv\")\n",
    "df_sub[\"target\"] = tabnet_preds\n",
    "df_sub"
   ]
  },
  {
   "cell_type": "code",
   "execution_count": 17,
   "id": "7371ea4e",
   "metadata": {
    "execution": {
     "iopub.execute_input": "2024-08-10T02:45:37.975649Z",
     "iopub.status.busy": "2024-08-10T02:45:37.975034Z",
     "iopub.status.idle": "2024-08-10T02:45:37.980564Z",
     "shell.execute_reply": "2024-08-10T02:45:37.979739Z"
    },
    "papermill": {
     "duration": 0.021747,
     "end_time": "2024-08-10T02:45:37.982537",
     "exception": false,
     "start_time": "2024-08-10T02:45:37.960790",
     "status": "completed"
    },
    "tags": []
   },
   "outputs": [],
   "source": [
    "df_sub.to_csv(\"submission.csv\", index=False)"
   ]
  },
  {
   "cell_type": "code",
   "execution_count": null,
   "id": "2264dd28",
   "metadata": {
    "papermill": {
     "duration": 0.013016,
     "end_time": "2024-08-10T02:45:38.008984",
     "exception": false,
     "start_time": "2024-08-10T02:45:37.995968",
     "status": "completed"
    },
    "tags": []
   },
   "outputs": [],
   "source": []
  },
  {
   "cell_type": "code",
   "execution_count": null,
   "id": "2200b6e8",
   "metadata": {
    "papermill": {
     "duration": 0.017502,
     "end_time": "2024-08-10T02:45:38.044612",
     "exception": false,
     "start_time": "2024-08-10T02:45:38.027110",
     "status": "completed"
    },
    "tags": []
   },
   "outputs": [],
   "source": []
  }
 ],
 "metadata": {
  "kaggle": {
   "accelerator": "gpu",
   "dataSources": [
    {
     "databundleVersionId": 9094797,
     "sourceId": 63056,
     "sourceType": "competition"
    },
    {
     "datasetId": 921302,
     "sourceId": 7453542,
     "sourceType": "datasetVersion"
    },
    {
     "datasetId": 5406640,
     "sourceId": 8982084,
     "sourceType": "datasetVersion"
    },
    {
     "datasetId": 5415918,
     "sourceId": 8991790,
     "sourceType": "datasetVersion"
    },
    {
     "sourceId": 186147615,
     "sourceType": "kernelVersion"
    },
    {
     "sourceId": 187730674,
     "sourceType": "kernelVersion"
    },
    {
     "sourceId": 188543089,
     "sourceType": "kernelVersion"
    },
    {
     "sourceId": 188543756,
     "sourceType": "kernelVersion"
    },
    {
     "sourceId": 188602899,
     "sourceType": "kernelVersion"
    },
    {
     "sourceId": 188603204,
     "sourceType": "kernelVersion"
    }
   ],
   "dockerImageVersionId": 30733,
   "isGpuEnabled": true,
   "isInternetEnabled": false,
   "language": "python",
   "sourceType": "notebook"
  },
  "kernelspec": {
   "display_name": "Python 3",
   "language": "python",
   "name": "python3"
  },
  "language_info": {
   "codemirror_mode": {
    "name": "ipython",
    "version": 3
   },
   "file_extension": ".py",
   "mimetype": "text/x-python",
   "name": "python",
   "nbconvert_exporter": "python",
   "pygments_lexer": "ipython3",
   "version": "3.10.13"
  },
  "papermill": {
   "default_parameters": {},
   "duration": 6949.8103,
   "end_time": "2024-08-10T02:45:39.603894",
   "environment_variables": {},
   "exception": null,
   "input_path": "__notebook__.ipynb",
   "output_path": "__notebook__.ipynb",
   "parameters": {},
   "start_time": "2024-08-10T00:49:49.793594",
   "version": "2.5.0"
  }
 },
 "nbformat": 4,
 "nbformat_minor": 5
}
